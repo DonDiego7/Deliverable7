{
  "cells": [
    {
      "cell_type": "markdown",
      "id": "5fec0894",
      "metadata": {
        "id": "5fec0894"
      },
      "source": [
        "# Control Flow and Iterables"
      ]
    },
    {
      "cell_type": "markdown",
      "id": "3fa4dc4c",
      "metadata": {
        "id": "3fa4dc4c"
      },
      "source": [
        "## **for** Loops"
      ]
    },
    {
      "cell_type": "markdown",
      "id": "38f2ec4c",
      "metadata": {
        "id": "38f2ec4c"
      },
      "source": [
        "Designed to work with lists and other sequence types. A for loop iterates through each element in a list in order."
      ]
    },
    {
      "cell_type": "code",
      "execution_count": 30,
      "id": "7042ded9",
      "metadata": {
        "id": "7042ded9"
      },
      "outputs": [],
      "source": [
        "my_list = [1, 3, 5, 7, 9]"
      ]
    },
    {
      "cell_type": "code",
      "execution_count": 31,
      "id": "d8983e6f",
      "metadata": {
        "id": "d8983e6f",
        "colab": {
          "base_uri": "https://localhost:8080/"
        },
        "outputId": "c4e0d16f-3eff-47b4-f92a-1dbfa009e190"
      },
      "outputs": [
        {
          "output_type": "stream",
          "name": "stdout",
          "text": [
            "1\n",
            "3\n",
            "5\n",
            "7\n",
            "9\n",
            "End\n"
          ]
        }
      ],
      "source": [
        "for element in my_list:\n",
        "    print(element)\n",
        "print('End')"
      ]
    },
    {
      "cell_type": "markdown",
      "id": "a12709f4",
      "metadata": {
        "id": "a12709f4"
      },
      "source": [
        "This program prints every element from the list. It enumerates every element of the list. For loops follow an appropriate indentation which refers to the spaces at the beginning of a code line. \n",
        "Any indented statement after the loop is included inside the loop.\n"
      ]
    },
    {
      "cell_type": "code",
      "execution_count": 32,
      "id": "69832944",
      "metadata": {
        "id": "69832944",
        "colab": {
          "base_uri": "https://localhost:8080/"
        },
        "outputId": "7eaad473-790d-4f43-d899-272d5698b7e4"
      },
      "outputs": [
        {
          "output_type": "execute_result",
          "data": {
            "text/plain": [
              "[0, 1, 2, 3, 4, 5, 6, 7, 8, 9]"
            ]
          },
          "metadata": {},
          "execution_count": 32
        }
      ],
      "source": [
        "values = list(range(10))\n",
        "values"
      ]
    },
    {
      "cell_type": "code",
      "execution_count": 33,
      "id": "b44145ab",
      "metadata": {
        "id": "b44145ab"
      },
      "outputs": [],
      "source": [
        "squares = []"
      ]
    },
    {
      "cell_type": "code",
      "execution_count": 34,
      "id": "a4e55c42",
      "metadata": {
        "id": "a4e55c42",
        "colab": {
          "base_uri": "https://localhost:8080/"
        },
        "outputId": "42b1cada-16dd-44d5-922a-d239964cecbb"
      },
      "outputs": [
        {
          "output_type": "stream",
          "name": "stdout",
          "text": [
            "Original values:  [1, 3, 5, 7, 9]\n",
            "Squared values:   [0, 1, 4, 9, 16, 25, 36, 49, 64, 81]\n"
          ]
        }
      ],
      "source": [
        "for i in values:\n",
        "    squares.append(i**2) #append squares of elements\n",
        "print('Original values: ', my_list)\n",
        "print('Squared values:  ', squares)"
      ]
    },
    {
      "cell_type": "markdown",
      "id": "020d4355",
      "metadata": {
        "id": "020d4355"
      },
      "source": [
        "### range()"
      ]
    },
    {
      "cell_type": "markdown",
      "id": "b7382ad6",
      "metadata": {
        "id": "b7382ad6"
      },
      "source": [
        "**range:** creates list of indexing for loops"
      ]
    },
    {
      "cell_type": "markdown",
      "id": "ea7a1b79",
      "metadata": {
        "id": "ea7a1b79"
      },
      "source": [
        "**range($a$):** numbers from 0 to $a$, not including $a$"
      ]
    },
    {
      "cell_type": "markdown",
      "id": "aac7b743",
      "metadata": {
        "id": "aac7b743"
      },
      "source": [
        "**range($b$, $a$):** numbers from $b$ to $a$, not including $b$"
      ]
    },
    {
      "cell_type": "markdown",
      "id": "029d98b9",
      "metadata": {
        "id": "029d98b9"
      },
      "source": [
        "**range($b$, $a$, $c$):** numbers from $b$ to $a$, not including $a$, skipping every $c$ number"
      ]
    },
    {
      "cell_type": "code",
      "execution_count": 35,
      "id": "3a8d7511",
      "metadata": {
        "colab": {
          "base_uri": "https://localhost:8080/"
        },
        "id": "3a8d7511",
        "outputId": "52819b56-732c-4243-993e-ea5d5d100d58"
      },
      "outputs": [
        {
          "output_type": "execute_result",
          "data": {
            "text/plain": [
              "[1, 2, 3, 4, 5, 6, 7, 8, 9, 10]"
            ]
          },
          "metadata": {},
          "execution_count": 35
        }
      ],
      "source": [
        "list(range(1,11))"
      ]
    },
    {
      "cell_type": "code",
      "execution_count": 36,
      "id": "9329af40",
      "metadata": {
        "id": "9329af40",
        "colab": {
          "base_uri": "https://localhost:8080/"
        },
        "outputId": "a0fe9cc2-21dd-4d72-a96f-c53ef118d66c"
      },
      "outputs": [
        {
          "output_type": "stream",
          "name": "stdout",
          "text": [
            "Original values:  [1, 2, 3, 4, 5, 6, 7, 8, 9, 10]\n",
            "Squared values:   [1, 4, 9, 16, 25, 36, 49, 64, 81, 100]\n"
          ]
        }
      ],
      "source": [
        "squares = []\n",
        "\n",
        "for i in range(1,11): #two input entry\n",
        "    squares.append(i ** 2) #append squares of elements\n",
        "    \n",
        "print(\"Original values: \", list(range(1,11)))\n",
        "print(\"Squared values:  \", squares) #prints the same output as above given program without range function.\n"
      ]
    },
    {
      "cell_type": "markdown",
      "id": "fba9e729",
      "metadata": {
        "id": "fba9e729"
      },
      "source": [
        "Prints every element given in the list without using any index"
      ]
    },
    {
      "cell_type": "code",
      "execution_count": 37,
      "id": "051ae134",
      "metadata": {
        "id": "051ae134",
        "colab": {
          "base_uri": "https://localhost:8080/"
        },
        "outputId": "c2156653-63f6-4a44-adca-39a09a39138c"
      },
      "outputs": [
        {
          "output_type": "stream",
          "name": "stdout",
          "text": [
            "abc\n",
            "1.2\n",
            "5\n",
            "(1, 2)\n",
            "[3, 2]\n",
            "{'first key': 'first value'}\n"
          ]
        }
      ],
      "source": [
        "my_newList = ['abc', 1.2, 5, (1,2), [3,2], {'first key':'first value'}]\n",
        "for element in my_newList:\n",
        "    print(element)"
      ]
    },
    {
      "cell_type": "markdown",
      "id": "8a222f5c",
      "metadata": {
        "id": "8a222f5c"
      },
      "source": [
        "Prints every element given in the list by using index"
      ]
    },
    {
      "cell_type": "code",
      "execution_count": 38,
      "id": "794d7379",
      "metadata": {
        "id": "794d7379",
        "colab": {
          "base_uri": "https://localhost:8080/"
        },
        "outputId": "4cf0f1f1-6ea1-4cfc-c7cd-2f7247ba63a9"
      },
      "outputs": [
        {
          "output_type": "stream",
          "name": "stdout",
          "text": [
            "abc\n",
            "1.2\n",
            "5\n",
            "(1, 2)\n",
            "[3, 2]\n",
            "{'first key': 'first value'}\n"
          ]
        }
      ],
      "source": [
        "my_newList = ['abc', 1.2, 5, (1,2), [3,2], {'first key':'first value'}]\n",
        "for i in range(len(my_newList)):\n",
        "    print(my_newList[i]) \n"
      ]
    },
    {
      "cell_type": "markdown",
      "id": "42e34029",
      "metadata": {
        "id": "42e34029"
      },
      "source": [
        "Iterate a string"
      ]
    },
    {
      "cell_type": "code",
      "execution_count": 39,
      "id": "d1b33646",
      "metadata": {
        "id": "d1b33646",
        "colab": {
          "base_uri": "https://localhost:8080/"
        },
        "outputId": "706cdd91-54c0-42af-8102-dfed7430d2c9"
      },
      "outputs": [
        {
          "output_type": "stream",
          "name": "stdout",
          "text": [
            "a\n",
            "H\n",
            "d\n",
            "H\n",
            "e\n",
            "f\n",
            "g\n"
          ]
        }
      ],
      "source": [
        "for char in 'aHdHefg': \n",
        "    print(char)\n"
      ]
    },
    {
      "cell_type": "markdown",
      "id": "bc55a6fb",
      "metadata": {
        "id": "bc55a6fb"
      },
      "source": [
        "Iterate a dictionary"
      ]
    },
    {
      "cell_type": "code",
      "execution_count": 40,
      "id": "56c3dbf5",
      "metadata": {
        "id": "56c3dbf5",
        "colab": {
          "base_uri": "https://localhost:8080/"
        },
        "outputId": "58b96f6f-d807-4f6d-8623-9551e7196d14"
      },
      "outputs": [
        {
          "output_type": "execute_result",
          "data": {
            "text/plain": [
              "{'First Name': ['James', 'Alexander', 'Ashley'],\n",
              " 'Last Name': ['Cook', 'Bell', 'Mason'],\n",
              " 'Age': [38, 42, 23]}"
            ]
          },
          "metadata": {},
          "execution_count": 40
        }
      ],
      "source": [
        "my_dict = {'First Name':['James', 'Alexander', 'Ashley'],\n",
        "           'Last Name': ['Cook','Bell','Mason'],\n",
        "           'Age': [38, 42, 23]} \n",
        "my_dict"
      ]
    },
    {
      "cell_type": "code",
      "execution_count": 41,
      "id": "dec3a3c7",
      "metadata": {
        "id": "dec3a3c7",
        "colab": {
          "base_uri": "https://localhost:8080/"
        },
        "outputId": "9ff70630-9a9d-4c02-a83f-32a13f0699d1"
      },
      "outputs": [
        {
          "output_type": "stream",
          "name": "stdout",
          "text": [
            "First Name\n",
            "Last Name\n",
            "Age\n"
          ]
        }
      ],
      "source": [
        "for key in my_dict:\n",
        "    print(key) #prints keys"
      ]
    },
    {
      "cell_type": "code",
      "execution_count": 42,
      "id": "bb9b770e",
      "metadata": {
        "id": "bb9b770e",
        "colab": {
          "base_uri": "https://localhost:8080/"
        },
        "outputId": "1ac7cbdc-6d7f-45a6-c707-b4eb38556cb0"
      },
      "outputs": [
        {
          "output_type": "stream",
          "name": "stdout",
          "text": [
            "['James', 'Alexander', 'Ashley']\n",
            "['Cook', 'Bell', 'Mason']\n",
            "[38, 42, 23]\n"
          ]
        }
      ],
      "source": [
        "for key in my_dict:\n",
        "    print(my_dict[key]) #prints values for each key\n"
      ]
    },
    {
      "cell_type": "code",
      "execution_count": 43,
      "id": "b5a5a7b9",
      "metadata": {
        "id": "b5a5a7b9",
        "colab": {
          "base_uri": "https://localhost:8080/"
        },
        "outputId": "f796cca3-faa5-45e3-d368-3ae246c4ac38"
      },
      "outputs": [
        {
          "output_type": "stream",
          "name": "stdout",
          "text": [
            "James\n",
            "Alexander\n",
            "Ashley\n",
            "=========\n",
            "\n",
            "Cook\n",
            "Bell\n",
            "Mason\n",
            "=========\n",
            "\n",
            "38\n",
            "42\n",
            "23\n",
            "=========\n",
            "\n"
          ]
        }
      ],
      "source": [
        "for key in my_dict:\n",
        "    for element in my_dict[key]: #you can nest for statements\n",
        "        print(element) #prints values\n",
        "    print('=========')\n",
        "    print()"
      ]
    },
    {
      "cell_type": "markdown",
      "id": "5cdc409e",
      "metadata": {
        "id": "5cdc409e"
      },
      "source": [
        "## Conditional statements (**if, elif, else**)"
      ]
    },
    {
      "cell_type": "markdown",
      "id": "37da49ce",
      "metadata": {
        "id": "37da49ce"
      },
      "source": [
        "These statements are used to determine which branch in your code to follow."
      ]
    },
    {
      "cell_type": "markdown",
      "id": "61bbdf61",
      "metadata": {
        "id": "61bbdf61"
      },
      "source": [
        "The code that follows if or else must be indented. "
      ]
    },
    {
      "cell_type": "code",
      "execution_count": 44,
      "id": "7bc88444",
      "metadata": {
        "id": "7bc88444",
        "colab": {
          "base_uri": "https://localhost:8080/"
        },
        "outputId": "ad5ba731-3e91-43ff-edec-5efce2c2a3e6"
      },
      "outputs": [
        {
          "output_type": "stream",
          "name": "stdout",
          "text": [
            "Please input a number: 4\n",
            "x and y are not equal.\n",
            "End\n"
          ]
        }
      ],
      "source": [
        "x = 1\n",
        "y = int(input(\"Please input a number: \"))\n",
        "\n",
        "if x == y:\n",
        "    print(\"x and y are equal.\")\n",
        "else:\n",
        "    print(\"x and y are not equal.\") \n",
        "\n",
        "    print(\"End\")\n"
      ]
    },
    {
      "cell_type": "markdown",
      "id": "13eb87e1",
      "metadata": {
        "id": "13eb87e1"
      },
      "source": [
        "### Boolean Combination\n",
        "* $a$ **and** $b$: true if both $a$ and $b$ are true\n",
        "* $a$ **or** $b$:  true if either $a$ or $b$ are true\n",
        "* **not** $a$:     true if both $a$ is true"
      ]
    },
    {
      "cell_type": "markdown",
      "id": "941961df",
      "metadata": {
        "id": "941961df"
      },
      "source": [
        "**Example 1:** Even or odd number? "
      ]
    },
    {
      "cell_type": "code",
      "execution_count": 45,
      "id": "052b0411",
      "metadata": {
        "id": "052b0411",
        "colab": {
          "base_uri": "https://localhost:8080/"
        },
        "outputId": "2c404e22-c6de-4e28-8cb2-fbf9fbc7111d"
      },
      "outputs": [
        {
          "output_type": "stream",
          "name": "stdout",
          "text": [
            "Please input a number: 3\n",
            "x is odd\n",
            "End\n"
          ]
        }
      ],
      "source": [
        "x = float(input(\"Please input a number: \"))\n",
        "if x %2 == 0: #modulus operator: it gives you the remainder of the division.\n",
        "    print(\"x is even\")\n",
        "else:\n",
        "    print(\"x is odd\")\n",
        "print(\"End\")"
      ]
    },
    {
      "cell_type": "code",
      "execution_count": 46,
      "id": "551edc20",
      "metadata": {
        "id": "551edc20",
        "colab": {
          "base_uri": "https://localhost:8080/"
        },
        "outputId": "212f3b4d-522d-4a09-cf05-224f77455c80"
      },
      "outputs": [
        {
          "output_type": "stream",
          "name": "stdout",
          "text": [
            "Please input a number: 4\n",
            "1 is odd\n",
            "2 is even\n",
            "3 is odd\n",
            "4 is even\n",
            "End\n"
          ]
        }
      ],
      "source": [
        "a = int(input(\"Please input a number: \"))\n",
        "\n",
        "for i in range(1, a + 1):\n",
        "    if i %2 == 0: #modulus operator: it gives you the remainder of the division.\n",
        "        print('{} is even'.format(i))\n",
        "    else:\n",
        "        print('{} is odd'.format(i))\n",
        "print(\"End\")\n"
      ]
    },
    {
      "cell_type": "markdown",
      "id": "71fe6fe0",
      "metadata": {
        "id": "71fe6fe0"
      },
      "source": [
        "Multiple conditions"
      ]
    },
    {
      "cell_type": "code",
      "execution_count": 47,
      "id": "ac7e31f0",
      "metadata": {
        "id": "ac7e31f0",
        "outputId": "31b60061-08c8-4f4d-9186-5cf6b0d85008",
        "colab": {
          "base_uri": "https://localhost:8080/"
        }
      },
      "outputs": [
        {
          "output_type": "stream",
          "name": "stdout",
          "text": [
            "Please input the password: 5\n",
            "Wrong password.\n"
          ]
        }
      ],
      "source": [
        "password = 'hunter2'\n",
        "also_password = 'hunter3'\n",
        "another_password = 'hunter4'\n",
        "\n",
        "user_pass = input('Please input the password: ')\n",
        "\n",
        "if password == user_pass:\n",
        "    print(\"Welcome, administrator.\")\n",
        "elif user_pass == also_password:\n",
        "    print(\"Welcome, administrator.\")\n",
        "elif user_pass == another_password:\n",
        "    print(\"Welcome, manager.\")\n",
        "else:\n",
        "    print(\"Wrong password.\") #if no above given conditions are satisfied."
      ]
    },
    {
      "cell_type": "markdown",
      "id": "c823a578",
      "metadata": {
        "id": "c823a578"
      },
      "source": [
        "Nested conditionals"
      ]
    },
    {
      "cell_type": "code",
      "execution_count": 48,
      "id": "4db9c21d",
      "metadata": {
        "id": "4db9c21d",
        "outputId": "9f289a48-a296-4340-be13-60ea47bcbfd9",
        "colab": {
          "base_uri": "https://localhost:8080/"
        }
      },
      "outputs": [
        {
          "output_type": "stream",
          "name": "stdout",
          "text": [
            "Enter a value for x: 4\n",
            "Enter a value for y: 3\n",
            "Both are greater than 0.\n"
          ]
        }
      ],
      "source": [
        "x = float(input(\"Enter a value for x: \"))\n",
        "y = float(input(\"Enter a value for y: \"))\n",
        "\n",
        "if x > 0:\n",
        "    if y > 0:\n",
        "        print(\"Both are greater than 0.\")\n",
        "    else:\n",
        "        print(\"x is greater than 0, but y is smaller or equal to 0\") #default code if no condition is met except x>0\n",
        "else:\n",
        "    print(\"x is smaller or equal to 0\") #default code if no condition was met\n"
      ]
    },
    {
      "cell_type": "markdown",
      "id": "a6e5b109",
      "metadata": {
        "id": "a6e5b109"
      },
      "source": [
        "* The **elif** and **else** sections are both optional.\n",
        "* **elif** statements can be repeated as many times as you want.\n",
        "* The conditions must be boolean statements.\n",
        "* The code inside **if**, **elif**, and **else** statements must be indented. \n",
        "* You can nest conditional statements. \n"
      ]
    },
    {
      "cell_type": "markdown",
      "id": "33bed24c",
      "metadata": {
        "id": "33bed24c"
      },
      "source": [
        "## **while** Loop"
      ]
    },
    {
      "cell_type": "markdown",
      "id": "96487da1",
      "metadata": {
        "id": "96487da1"
      },
      "source": [
        "The syntax of a while loop is very similar to that of an if statement, but instead of only running the indented block of code once, the while loop will continue running it until the given Boolean statement is no longer **True**. "
      ]
    },
    {
      "cell_type": "code",
      "execution_count": 49,
      "id": "07c8d1f7",
      "metadata": {
        "id": "07c8d1f7",
        "colab": {
          "base_uri": "https://localhost:8080/"
        },
        "outputId": "e98cc40d-4e21-4e8d-b48d-a4bc1b8877f9"
      },
      "outputs": [
        {
          "output_type": "stream",
          "name": "stdout",
          "text": [
            "10\n",
            "9\n",
            "8\n",
            "7\n",
            "6\n",
            "5\n",
            "4\n",
            "3\n",
            "2\n",
            "1\n"
          ]
        }
      ],
      "source": [
        "c = 10\n",
        "while c > 0:  # Condition\n",
        "    print(c)\n",
        "    c = c - 1 # Update c value"
      ]
    },
    {
      "cell_type": "markdown",
      "id": "06fb2004",
      "metadata": {
        "id": "06fb2004"
      },
      "source": [
        "Indented section is executed until the given condition becomes **False**. If the condition starts out False, then the loop will never execute. "
      ]
    },
    {
      "cell_type": "code",
      "execution_count": 50,
      "id": "1b5a158d",
      "metadata": {
        "id": "1b5a158d"
      },
      "outputs": [],
      "source": [
        "c = 10\n",
        "while c > 10: # Condition is not satisfied.\n",
        "    print(c)  # will not print out anything\n",
        "    x = x - 1\n"
      ]
    },
    {
      "cell_type": "markdown",
      "id": "5b5134f9",
      "metadata": {
        "id": "5b5134f9"
      },
      "source": [
        "**if** and **else** can be combined with **while**, as shown below: "
      ]
    },
    {
      "cell_type": "code",
      "execution_count": 51,
      "id": "16c052ab",
      "metadata": {
        "id": "16c052ab",
        "colab": {
          "base_uri": "https://localhost:8080/"
        },
        "outputId": "7f7426b2-674a-4eee-9682-770dd3db92f3"
      },
      "outputs": [
        {
          "output_type": "stream",
          "name": "stdout",
          "text": [
            "1 is odd.\n",
            "2 is even.\n",
            "3 is odd.\n",
            "4 is even.\n",
            "5 is odd.\n",
            "6 is even.\n",
            "7 is odd.\n",
            "8 is even.\n",
            "9 is odd.\n",
            "10 is even.\n"
          ]
        }
      ],
      "source": [
        "c = 1\n",
        "while c <= 10:\n",
        "    if c % 2 == 0:\n",
        "        print('{} is even.'.format(c))\n",
        "    else:\n",
        "        print('{} is odd.'.format(c))\n",
        "    c = c + 1"
      ]
    },
    {
      "cell_type": "code",
      "execution_count": 52,
      "id": "ca8043ab",
      "metadata": {
        "id": "ca8043ab",
        "colab": {
          "base_uri": "https://localhost:8080/"
        },
        "outputId": "a68e9247-bb46-442d-c659-81e12cd7851c"
      },
      "outputs": [
        {
          "output_type": "stream",
          "name": "stdout",
          "text": [
            "1 is odd.\n",
            "2 is even.\n",
            "3 is odd.\n",
            "4 is even.\n",
            "5 is odd.\n",
            "6 is even.\n",
            "7 is odd.\n",
            "8 is even.\n",
            "9 is odd.\n",
            "10 is even.\n"
          ]
        }
      ],
      "source": [
        "c = 1\n",
        "while True: #is always satisfied until break is called.\n",
        "    if c > 10:\n",
        "        break # break the loop\n",
        "    if c % 2 == 0:\n",
        "        print(\"{} is even.\".format(c))\n",
        "    else:\n",
        "        print(\"{} is odd.\".format(c))\n",
        "    c = c + 1\n"
      ]
    },
    {
      "cell_type": "markdown",
      "id": "b281971b",
      "metadata": {
        "id": "b281971b"
      },
      "source": [
        "**Example 2:** Simulation"
      ]
    },
    {
      "cell_type": "markdown",
      "id": "46d69277",
      "metadata": {
        "id": "46d69277"
      },
      "source": [
        "Let $t \\sim$ exp($\\mu$). Find the probability $P(t \\geq 2\\mu)$"
      ]
    },
    {
      "cell_type": "code",
      "execution_count": 53,
      "id": "eab8862c",
      "metadata": {
        "id": "eab8862c"
      },
      "outputs": [],
      "source": [
        "import numpy as np"
      ]
    },
    {
      "cell_type": "code",
      "execution_count": 54,
      "id": "6832549b",
      "metadata": {
        "id": "6832549b",
        "colab": {
          "base_uri": "https://localhost:8080/"
        },
        "outputId": "390bf9e9-2d36-415c-a087-a29a0b03ea5e"
      },
      "outputs": [
        {
          "output_type": "stream",
          "name": "stdout",
          "text": [
            "Enter a value for mu: 5\n",
            "probs:  0.1396\n"
          ]
        }
      ],
      "source": [
        "mu = float(input(\"Enter a value for mu: \"))\n",
        "n = 0 # runs\n",
        "c = 0    # counter\n",
        "\n",
        "while n < 10000:\n",
        "    t = np.random.exponential(mu)\n",
        "    if t >= 2*mu: c = c + 1\n",
        "    n = n + 1\n",
        "print('probs: ', c/n)"
      ]
    },
    {
      "cell_type": "code",
      "execution_count": 55,
      "id": "7fd237eb",
      "metadata": {
        "id": "7fd237eb",
        "colab": {
          "base_uri": "https://localhost:8080/"
        },
        "outputId": "f1565e49-9988-47bb-b6b2-92f4d7a7c08b"
      },
      "outputs": [
        {
          "output_type": "execute_result",
          "data": {
            "text/plain": [
              "6.145715892399135"
            ]
          },
          "metadata": {},
          "execution_count": 55
        }
      ],
      "source": [
        " np.random.exponential(10)"
      ]
    },
    {
      "cell_type": "markdown",
      "id": "2878b9cb",
      "metadata": {
        "id": "2878b9cb"
      },
      "source": [
        "* Find the probability $P(t \\geq 10)$, for $\\mu$ $\\in$ $\\{1,...,100\\}$\n",
        "* Find the probability $P(t \\geq 15)$, for $\\mu$ $\\in$ $\\{1,...,100\\}$\n",
        "* Find the probability $P(t \\geq 20)$, for $\\mu$ $\\in$ $\\{1,...,100\\}$"
      ]
    },
    {
      "cell_type": "code",
      "execution_count": 56,
      "id": "0c6cfba1",
      "metadata": {
        "id": "0c6cfba1"
      },
      "outputs": [],
      "source": [
        "values = range(1, 101)\n",
        "p1 = [] \n",
        "\n",
        "for mu in values:\n",
        "    n = 0\n",
        "    c = 0\n",
        "    while n <= 1000:\n",
        "        t = np.random.exponential(mu)\n",
        "        if t >= 10: \n",
        "            c = c + 1\n",
        "        n = n + 1\n",
        "    p1.append(c/n)\n",
        "    "
      ]
    },
    {
      "cell_type": "markdown",
      "id": "73c25dfc",
      "metadata": {
        "id": "73c25dfc"
      },
      "source": [
        "Create a DataFrame"
      ]
    },
    {
      "cell_type": "code",
      "execution_count": 57,
      "id": "98b62686",
      "metadata": {
        "id": "98b62686"
      },
      "outputs": [],
      "source": [
        "import pandas as pd"
      ]
    },
    {
      "cell_type": "code",
      "execution_count": 58,
      "id": "1d853d74",
      "metadata": {
        "id": "1d853d74",
        "colab": {
          "base_uri": "https://localhost:8080/",
          "height": 423
        },
        "outputId": "219bbf45-2227-4aea-fd93-d055b9968efd"
      },
      "outputs": [
        {
          "output_type": "execute_result",
          "data": {
            "text/plain": [
              "     mu values  P(t > 10)\n",
              "1            1   0.000000\n",
              "2            2   0.009990\n",
              "3            3   0.042957\n",
              "4            4   0.068931\n",
              "5            5   0.127872\n",
              "..         ...        ...\n",
              "96          96   0.886114\n",
              "97          97   0.897103\n",
              "98          98   0.924076\n",
              "99          99   0.908092\n",
              "100        100   0.913087\n",
              "\n",
              "[100 rows x 2 columns]"
            ],
            "text/html": [
              "\n",
              "  <div id=\"df-9ff543ef-5a3d-4d11-a496-41e6b73ba2eb\">\n",
              "    <div class=\"colab-df-container\">\n",
              "      <div>\n",
              "<style scoped>\n",
              "    .dataframe tbody tr th:only-of-type {\n",
              "        vertical-align: middle;\n",
              "    }\n",
              "\n",
              "    .dataframe tbody tr th {\n",
              "        vertical-align: top;\n",
              "    }\n",
              "\n",
              "    .dataframe thead th {\n",
              "        text-align: right;\n",
              "    }\n",
              "</style>\n",
              "<table border=\"1\" class=\"dataframe\">\n",
              "  <thead>\n",
              "    <tr style=\"text-align: right;\">\n",
              "      <th></th>\n",
              "      <th>mu values</th>\n",
              "      <th>P(t &gt; 10)</th>\n",
              "    </tr>\n",
              "  </thead>\n",
              "  <tbody>\n",
              "    <tr>\n",
              "      <th>1</th>\n",
              "      <td>1</td>\n",
              "      <td>0.000000</td>\n",
              "    </tr>\n",
              "    <tr>\n",
              "      <th>2</th>\n",
              "      <td>2</td>\n",
              "      <td>0.009990</td>\n",
              "    </tr>\n",
              "    <tr>\n",
              "      <th>3</th>\n",
              "      <td>3</td>\n",
              "      <td>0.042957</td>\n",
              "    </tr>\n",
              "    <tr>\n",
              "      <th>4</th>\n",
              "      <td>4</td>\n",
              "      <td>0.068931</td>\n",
              "    </tr>\n",
              "    <tr>\n",
              "      <th>5</th>\n",
              "      <td>5</td>\n",
              "      <td>0.127872</td>\n",
              "    </tr>\n",
              "    <tr>\n",
              "      <th>...</th>\n",
              "      <td>...</td>\n",
              "      <td>...</td>\n",
              "    </tr>\n",
              "    <tr>\n",
              "      <th>96</th>\n",
              "      <td>96</td>\n",
              "      <td>0.886114</td>\n",
              "    </tr>\n",
              "    <tr>\n",
              "      <th>97</th>\n",
              "      <td>97</td>\n",
              "      <td>0.897103</td>\n",
              "    </tr>\n",
              "    <tr>\n",
              "      <th>98</th>\n",
              "      <td>98</td>\n",
              "      <td>0.924076</td>\n",
              "    </tr>\n",
              "    <tr>\n",
              "      <th>99</th>\n",
              "      <td>99</td>\n",
              "      <td>0.908092</td>\n",
              "    </tr>\n",
              "    <tr>\n",
              "      <th>100</th>\n",
              "      <td>100</td>\n",
              "      <td>0.913087</td>\n",
              "    </tr>\n",
              "  </tbody>\n",
              "</table>\n",
              "<p>100 rows × 2 columns</p>\n",
              "</div>\n",
              "      <button class=\"colab-df-convert\" onclick=\"convertToInteractive('df-9ff543ef-5a3d-4d11-a496-41e6b73ba2eb')\"\n",
              "              title=\"Convert this dataframe to an interactive table.\"\n",
              "              style=\"display:none;\">\n",
              "        \n",
              "  <svg xmlns=\"http://www.w3.org/2000/svg\" height=\"24px\"viewBox=\"0 0 24 24\"\n",
              "       width=\"24px\">\n",
              "    <path d=\"M0 0h24v24H0V0z\" fill=\"none\"/>\n",
              "    <path d=\"M18.56 5.44l.94 2.06.94-2.06 2.06-.94-2.06-.94-.94-2.06-.94 2.06-2.06.94zm-11 1L8.5 8.5l.94-2.06 2.06-.94-2.06-.94L8.5 2.5l-.94 2.06-2.06.94zm10 10l.94 2.06.94-2.06 2.06-.94-2.06-.94-.94-2.06-.94 2.06-2.06.94z\"/><path d=\"M17.41 7.96l-1.37-1.37c-.4-.4-.92-.59-1.43-.59-.52 0-1.04.2-1.43.59L10.3 9.45l-7.72 7.72c-.78.78-.78 2.05 0 2.83L4 21.41c.39.39.9.59 1.41.59.51 0 1.02-.2 1.41-.59l7.78-7.78 2.81-2.81c.8-.78.8-2.07 0-2.86zM5.41 20L4 18.59l7.72-7.72 1.47 1.35L5.41 20z\"/>\n",
              "  </svg>\n",
              "      </button>\n",
              "      \n",
              "  <style>\n",
              "    .colab-df-container {\n",
              "      display:flex;\n",
              "      flex-wrap:wrap;\n",
              "      gap: 12px;\n",
              "    }\n",
              "\n",
              "    .colab-df-convert {\n",
              "      background-color: #E8F0FE;\n",
              "      border: none;\n",
              "      border-radius: 50%;\n",
              "      cursor: pointer;\n",
              "      display: none;\n",
              "      fill: #1967D2;\n",
              "      height: 32px;\n",
              "      padding: 0 0 0 0;\n",
              "      width: 32px;\n",
              "    }\n",
              "\n",
              "    .colab-df-convert:hover {\n",
              "      background-color: #E2EBFA;\n",
              "      box-shadow: 0px 1px 2px rgba(60, 64, 67, 0.3), 0px 1px 3px 1px rgba(60, 64, 67, 0.15);\n",
              "      fill: #174EA6;\n",
              "    }\n",
              "\n",
              "    [theme=dark] .colab-df-convert {\n",
              "      background-color: #3B4455;\n",
              "      fill: #D2E3FC;\n",
              "    }\n",
              "\n",
              "    [theme=dark] .colab-df-convert:hover {\n",
              "      background-color: #434B5C;\n",
              "      box-shadow: 0px 1px 3px 1px rgba(0, 0, 0, 0.15);\n",
              "      filter: drop-shadow(0px 1px 2px rgba(0, 0, 0, 0.3));\n",
              "      fill: #FFFFFF;\n",
              "    }\n",
              "  </style>\n",
              "\n",
              "      <script>\n",
              "        const buttonEl =\n",
              "          document.querySelector('#df-9ff543ef-5a3d-4d11-a496-41e6b73ba2eb button.colab-df-convert');\n",
              "        buttonEl.style.display =\n",
              "          google.colab.kernel.accessAllowed ? 'block' : 'none';\n",
              "\n",
              "        async function convertToInteractive(key) {\n",
              "          const element = document.querySelector('#df-9ff543ef-5a3d-4d11-a496-41e6b73ba2eb');\n",
              "          const dataTable =\n",
              "            await google.colab.kernel.invokeFunction('convertToInteractive',\n",
              "                                                     [key], {});\n",
              "          if (!dataTable) return;\n",
              "\n",
              "          const docLinkHtml = 'Like what you see? Visit the ' +\n",
              "            '<a target=\"_blank\" href=https://colab.research.google.com/notebooks/data_table.ipynb>data table notebook</a>'\n",
              "            + ' to learn more about interactive tables.';\n",
              "          element.innerHTML = '';\n",
              "          dataTable['output_type'] = 'display_data';\n",
              "          await google.colab.output.renderOutput(dataTable, element);\n",
              "          const docLink = document.createElement('div');\n",
              "          docLink.innerHTML = docLinkHtml;\n",
              "          element.appendChild(docLink);\n",
              "        }\n",
              "      </script>\n",
              "    </div>\n",
              "  </div>\n",
              "  "
            ]
          },
          "metadata": {},
          "execution_count": 58
        }
      ],
      "source": [
        "results = pd.DataFrame({'mu values': values, 'P(t > 10)': p1}, index = values)\n",
        "results"
      ]
    },
    {
      "cell_type": "code",
      "execution_count": 59,
      "id": "42f9e2c3",
      "metadata": {
        "id": "42f9e2c3"
      },
      "outputs": [],
      "source": [
        "import matplotlib.pyplot as plt"
      ]
    },
    {
      "cell_type": "code",
      "execution_count": 60,
      "id": "e2f23059",
      "metadata": {
        "id": "e2f23059",
        "outputId": "c3dcdf4f-b583-4cdf-e986-a6c92eeed709",
        "colab": {
          "base_uri": "https://localhost:8080/",
          "height": 279
        }
      },
      "outputs": [
        {
          "output_type": "display_data",
          "data": {
            "text/plain": [
              "<Figure size 432x288 with 1 Axes>"
            ],
            "image/png": "[encoded data removed]"
          },
          "metadata": {
            "needs_background": "light"
          }
        }
      ],
      "source": [
        "# Plotting\n",
        "plt.plot(results['mu values'], results['P(t > 10)'], c = 'Tab:red')\n",
        "\n",
        "# Axis lables\n",
        "plt.ylabel('probabilities')\n",
        "plt.xlabel('values')\n",
        "\n",
        "# Showing plot\n",
        "plt.show()"
      ]
    }
  ],
  "metadata": {
    "kernelspec": {
      "display_name": "Python 3 (ipykernel)",
      "language": "python",
      "name": "python3"
    },
    "language_info": {
      "codemirror_mode": {
        "name": "ipython",
        "version": 3
      },
      "file_extension": ".py",
      "mimetype": "text/x-python",
      "name": "python",
      "nbconvert_exporter": "python",
      "pygments_lexer": "ipython3",
      "version": "3.9.7"
    },
    "colab": {
      "provenance": []
    }
  },
  "nbformat": 4,
  "nbformat_minor": 5
}